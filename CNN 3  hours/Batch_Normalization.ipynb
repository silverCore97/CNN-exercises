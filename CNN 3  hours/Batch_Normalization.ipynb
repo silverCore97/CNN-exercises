{
  "nbformat": 4,
  "nbformat_minor": 0,
  "metadata": {
    "colab": {
      "name": "Batch Normalization.ipynb",
      "provenance": [],
      "collapsed_sections": []
    },
    "kernelspec": {
      "name": "python3",
      "display_name": "Python 3"
    },
    "language_info": {
      "name": "python"
    }
  },
  "cells": [
    {
      "cell_type": "markdown",
      "source": [
        "Batch Normalization"
      ],
      "metadata": {
        "id": "w_6Gj0VyOI2D"
      }
    },
    {
      "cell_type": "code",
      "execution_count": null,
      "metadata": {
        "id": "g3w_NOPDOAkM"
      },
      "outputs": [],
      "source": [
        "# Import modules\n",
        "\n",
        "import tensorflow as tf\n",
        "import tensorflow.keras.layers as layers\n"
      ]
    },
    {
      "cell_type": "code",
      "execution_count": null,
      "metadata": {
        "colab": {
          "base_uri": "https://localhost:8080/"
        },
        "id": "oAzEMtM1KtjW",
        "outputId": "ba89813e-d8ba-4337-d498-2179f89230aa"
      },
      "outputs": [
        {
          "output_type": "stream",
          "name": "stdout",
          "text": [
            "[<tf.Variable 'batch_normalization_3/gamma:0' shape=(3,) dtype=float32, numpy=array([1., 1., 1.], dtype=float32)>, <tf.Variable 'batch_normalization_3/beta:0' shape=(3,) dtype=float32, numpy=array([0., 0., 0.], dtype=float32)>]\n",
            "\n",
            "\n",
            "[<tf.Variable 'batch_normalization_3/gamma:0' shape=(3,) dtype=float32, numpy=array([1., 1., 1.], dtype=float32)>, <tf.Variable 'batch_normalization_3/beta:0' shape=(3,) dtype=float32, numpy=array([0., 0., 0.], dtype=float32)>, <tf.Variable 'batch_normalization_3/moving_mean:0' shape=(3,) dtype=float32, numpy=array([0., 0., 0.], dtype=float32)>, <tf.Variable 'batch_normalization_3/moving_variance:0' shape=(3,) dtype=float32, numpy=array([1., 1., 1.], dtype=float32)>]\n"
          ]
        }
      ],
      "source": [
        "net=layers.BatchNormalization()\n",
        "x=tf.random.normal([2,3])\n",
        "out=net(x)\n",
        "\n",
        "print(net.trainable_variables)\n",
        "print(\"\\n\")\n",
        "print(net.variables)"
      ]
    },
    {
      "cell_type": "markdown",
      "source": [
        "Example with non-zero mean"
      ],
      "metadata": {
        "id": "LRFQsZH_OSYq"
      }
    },
    {
      "cell_type": "code",
      "source": [
        "x=tf.random.normal([2,3,3,4],mean=1,stddev=0.5)\n",
        "net = layers.BatchNormalization(axis=3)\n",
        "out=net(x)\n",
        "\n",
        "net.variables"
      ],
      "metadata": {
        "colab": {
          "base_uri": "https://localhost:8080/"
        },
        "id": "4mbc7UF1OQT0",
        "outputId": "d95010f9-8962-45ba-8b7b-3aee4358b562"
      },
      "execution_count": null,
      "outputs": [
        {
          "output_type": "execute_result",
          "data": {
            "text/plain": [
              "[<tf.Variable 'batch_normalization_4/gamma:0' shape=(4,) dtype=float32, numpy=array([1., 1., 1., 1.], dtype=float32)>,\n",
              " <tf.Variable 'batch_normalization_4/beta:0' shape=(4,) dtype=float32, numpy=array([0., 0., 0., 0.], dtype=float32)>,\n",
              " <tf.Variable 'batch_normalization_4/moving_mean:0' shape=(4,) dtype=float32, numpy=array([0., 0., 0., 0.], dtype=float32)>,\n",
              " <tf.Variable 'batch_normalization_4/moving_variance:0' shape=(4,) dtype=float32, numpy=array([1., 1., 1., 1.], dtype=float32)>]"
            ]
          },
          "metadata": {},
          "execution_count": 9
        }
      ]
    },
    {
      "cell_type": "markdown",
      "source": [
        "Forward update"
      ],
      "metadata": {
        "id": "_B8zLl9BQlFw"
      }
    },
    {
      "cell_type": "code",
      "source": [
        "x=tf.random.normal([2,3,3,4],mean=1,stddev=0.5)\n",
        "net = layers.BatchNormalization(axis=3)\n",
        "out=net(x,training=True)\n",
        "print(net.variables)\n",
        "\n",
        "print(\"\\n\\n\",\"Training\",\"\\n\\n\")\n",
        "for i in range(100):\n",
        "  out=net(x,training=True)\n",
        "# Now moving_mean should be closer to 1 and moving variance closer to 0.25 (stddev root of variance)\n",
        "net.variables"
      ],
      "metadata": {
        "colab": {
          "base_uri": "https://localhost:8080/"
        },
        "id": "P-hk3AlCQnUT",
        "outputId": "76ac3b1c-aea9-4f88-a599-a61f1677fee0"
      },
      "execution_count": null,
      "outputs": [
        {
          "output_type": "stream",
          "name": "stdout",
          "text": [
            "[<tf.Variable 'batch_normalization_6/gamma:0' shape=(4,) dtype=float32, numpy=array([1., 1., 1., 1.], dtype=float32)>, <tf.Variable 'batch_normalization_6/beta:0' shape=(4,) dtype=float32, numpy=array([0., 0., 0., 0.], dtype=float32)>, <tf.Variable 'batch_normalization_6/moving_mean:0' shape=(4,) dtype=float32, numpy=array([0.00846255, 0.01142006, 0.00966587, 0.00950637], dtype=float32)>, <tf.Variable 'batch_normalization_6/moving_variance:0' shape=(4,) dtype=float32, numpy=array([0.9938263, 0.9919904, 0.9924904, 0.9927167], dtype=float32)>]\n",
            "\n",
            "\n",
            " Training \n",
            "\n",
            "\n"
          ]
        },
        {
          "output_type": "execute_result",
          "data": {
            "text/plain": [
              "[<tf.Variable 'batch_normalization_6/gamma:0' shape=(4,) dtype=float32, numpy=array([1., 1., 1., 1.], dtype=float32)>,\n",
              " <tf.Variable 'batch_normalization_6/beta:0' shape=(4,) dtype=float32, numpy=array([0., 0., 0., 0.], dtype=float32)>,\n",
              " <tf.Variable 'batch_normalization_6/moving_mean:0' shape=(4,) dtype=float32, numpy=array([0.539596  , 0.72817534, 0.6163227 , 0.6061525 ], dtype=float32)>,\n",
              " <tf.Variable 'batch_normalization_6/moving_variance:0' shape=(4,) dtype=float32, numpy=array([0.6063493 , 0.48928437, 0.5211675 , 0.5355983 ], dtype=float32)>]"
            ]
          },
          "metadata": {},
          "execution_count": 11
        }
      ]
    },
    {
      "cell_type": "markdown",
      "source": [
        "Backward update"
      ],
      "metadata": {
        "id": "1JQrqLzQSGTh"
      }
    },
    {
      "cell_type": "code",
      "source": [
        "from tensorflow.keras import optimizers\n",
        "# Optimizer just aken from Cifar100 example\n",
        "optimizer=optimizers.Adam(lr=1e-4)\n",
        "for i in range(10):\n",
        "  with tf.GradientTape() as tape:\n",
        "    out=net(x,training=True)\n",
        "    loss=tf.reduce_mean(tf.pow(out,2))-1\n",
        "  grads=tape.gradient(loss,net.trainable_variables)\n",
        "  optimizer.apply_gradients(zip(grads,net.trainable_variables))\n",
        "\n",
        "#Slight changes in gamma and beta -> Modifies original model to fit data as if it was a normal distribution\n",
        "net.variables"
      ],
      "metadata": {
        "colab": {
          "base_uri": "https://localhost:8080/"
        },
        "id": "vvk2qIirSIY3",
        "outputId": "31fba011-bfdb-404c-c773-d87dd4690cb8"
      },
      "execution_count": null,
      "outputs": [
        {
          "output_type": "stream",
          "name": "stderr",
          "text": [
            "/usr/local/lib/python3.7/dist-packages/keras/optimizer_v2/adam.py:105: UserWarning: The `lr` argument is deprecated, use `learning_rate` instead.\n",
            "  super(Adam, self).__init__(name, **kwargs)\n"
          ]
        },
        {
          "output_type": "execute_result",
          "data": {
            "text/plain": [
              "[<tf.Variable 'batch_normalization_6/gamma:0' shape=(4,) dtype=float32, numpy=array([0.99799967, 0.99799967, 0.99799967, 0.99799967], dtype=float32)>,\n",
              " <tf.Variable 'batch_normalization_6/beta:0' shape=(4,) dtype=float32, numpy=\n",
              " array([-2.3350294e-05,  1.3605357e-05, -1.3338593e-05,  8.9839905e-06],\n",
              "       dtype=float32)>,\n",
              " <tf.Variable 'batch_normalization_6/moving_mean:0' shape=(4,) dtype=float32, numpy=array([0.60042787, 0.8102671 , 0.685804  , 0.6744873 ], dtype=float32)>,\n",
              " <tf.Variable 'batch_normalization_6/moving_variance:0' shape=(4,) dtype=float32, numpy=array([0.5619707 , 0.43170843, 0.46718583, 0.48324347], dtype=float32)>]"
            ]
          },
          "metadata": {},
          "execution_count": 19
        }
      ]
    },
    {
      "cell_type": "code",
      "source": [
        ""
      ],
      "metadata": {
        "id": "PcBdNR_PXQjn"
      },
      "execution_count": null,
      "outputs": []
    }
  ]
}