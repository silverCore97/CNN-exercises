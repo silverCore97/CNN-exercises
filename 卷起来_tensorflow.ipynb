{
  "nbformat": 4,
  "nbformat_minor": 0,
  "metadata": {
    "colab": {
      "name": "卷起来 tensorflow.ipynb",
      "provenance": [],
      "collapsed_sections": [],
      "authorship_tag": "ABX9TyNUUrzcCPp66NrMxUWN42HJ",
      "include_colab_link": true
    },
    "kernelspec": {
      "name": "python3",
      "display_name": "Python 3"
    },
    "language_info": {
      "name": "python"
    }
  },
  "cells": [
    {
      "cell_type": "markdown",
      "metadata": {
        "id": "view-in-github",
        "colab_type": "text"
      },
      "source": [
        "<a href=\"https://colab.research.google.com/github/silverCore97/CNN-exercises/blob/main/%E5%8D%B7%E8%B5%B7%E6%9D%A5_tensorflow.ipynb\" target=\"_parent\"><img src=\"https://colab.research.google.com/assets/colab-badge.svg\" alt=\"Open In Colab\"/></a>"
      ]
    },
    {
      "cell_type": "code",
      "execution_count": 3,
      "metadata": {
        "id": "uFhcOLtU-qGe"
      },
      "outputs": [],
      "source": [
        "import numpy as np\n",
        "import pandas as pd\n",
        "import tensorflow as tf\n",
        "import matplotlib.pyplot as plt\n",
        "from tensorflow.keras import layers\n",
        "import tensorflow.keras as keras\n",
        "import warnings\n",
        "warnings.filterwarnings(\"ignore\")\n",
        "import os\n",
        "%matplotlib inline"
      ]
    },
    {
      "cell_type": "code",
      "source": [
        "from google.colab import drive\n",
        "drive.mount(\"/content/drive/\")\n",
        "os.chdir('/content/drive/My Drive/tensorflow_data/')"
      ],
      "metadata": {
        "colab": {
          "base_uri": "https://localhost:8080/"
        },
        "id": "LPJR33GN_wlc",
        "outputId": "5fcc3f69-c221-4faf-cfbf-56014f1d9948"
      },
      "execution_count": 4,
      "outputs": [
        {
          "output_type": "stream",
          "name": "stdout",
          "text": [
            "Mounted at /content/drive/\n"
          ]
        }
      ]
    },
    {
      "cell_type": "code",
      "source": [
        "features = pd.read_csv(\"temps.csv\")\n",
        "\n",
        "# First look at the features themselves\n",
        "features.head()"
      ],
      "metadata": {
        "colab": {
          "base_uri": "https://localhost:8080/",
          "height": 206
        },
        "id": "KsO1Ogz1CcKg",
        "outputId": "aa968348-8d27-4e6f-f7b7-bfd82d5164ea"
      },
      "execution_count": 5,
      "outputs": [
        {
          "output_type": "execute_result",
          "data": {
            "text/html": [
              "\n",
              "  <div id=\"df-3b31372e-ffca-48e3-b4a5-66e7c997bf41\">\n",
              "    <div class=\"colab-df-container\">\n",
              "      <div>\n",
              "<style scoped>\n",
              "    .dataframe tbody tr th:only-of-type {\n",
              "        vertical-align: middle;\n",
              "    }\n",
              "\n",
              "    .dataframe tbody tr th {\n",
              "        vertical-align: top;\n",
              "    }\n",
              "\n",
              "    .dataframe thead th {\n",
              "        text-align: right;\n",
              "    }\n",
              "</style>\n",
              "<table border=\"1\" class=\"dataframe\">\n",
              "  <thead>\n",
              "    <tr style=\"text-align: right;\">\n",
              "      <th></th>\n",
              "      <th>year</th>\n",
              "      <th>month</th>\n",
              "      <th>day</th>\n",
              "      <th>week</th>\n",
              "      <th>temp_2</th>\n",
              "      <th>temp_1</th>\n",
              "      <th>average</th>\n",
              "      <th>actual</th>\n",
              "      <th>friend</th>\n",
              "    </tr>\n",
              "  </thead>\n",
              "  <tbody>\n",
              "    <tr>\n",
              "      <th>0</th>\n",
              "      <td>2016</td>\n",
              "      <td>1</td>\n",
              "      <td>1</td>\n",
              "      <td>Fri</td>\n",
              "      <td>45</td>\n",
              "      <td>45</td>\n",
              "      <td>45.6</td>\n",
              "      <td>45</td>\n",
              "      <td>29</td>\n",
              "    </tr>\n",
              "    <tr>\n",
              "      <th>1</th>\n",
              "      <td>2016</td>\n",
              "      <td>1</td>\n",
              "      <td>2</td>\n",
              "      <td>Sat</td>\n",
              "      <td>44</td>\n",
              "      <td>45</td>\n",
              "      <td>45.7</td>\n",
              "      <td>44</td>\n",
              "      <td>61</td>\n",
              "    </tr>\n",
              "    <tr>\n",
              "      <th>2</th>\n",
              "      <td>2016</td>\n",
              "      <td>1</td>\n",
              "      <td>3</td>\n",
              "      <td>Sun</td>\n",
              "      <td>45</td>\n",
              "      <td>44</td>\n",
              "      <td>45.8</td>\n",
              "      <td>41</td>\n",
              "      <td>56</td>\n",
              "    </tr>\n",
              "    <tr>\n",
              "      <th>3</th>\n",
              "      <td>2016</td>\n",
              "      <td>1</td>\n",
              "      <td>4</td>\n",
              "      <td>Mon</td>\n",
              "      <td>44</td>\n",
              "      <td>41</td>\n",
              "      <td>45.9</td>\n",
              "      <td>40</td>\n",
              "      <td>53</td>\n",
              "    </tr>\n",
              "    <tr>\n",
              "      <th>4</th>\n",
              "      <td>2016</td>\n",
              "      <td>1</td>\n",
              "      <td>5</td>\n",
              "      <td>Tues</td>\n",
              "      <td>41</td>\n",
              "      <td>40</td>\n",
              "      <td>46.0</td>\n",
              "      <td>44</td>\n",
              "      <td>41</td>\n",
              "    </tr>\n",
              "  </tbody>\n",
              "</table>\n",
              "</div>\n",
              "      <button class=\"colab-df-convert\" onclick=\"convertToInteractive('df-3b31372e-ffca-48e3-b4a5-66e7c997bf41')\"\n",
              "              title=\"Convert this dataframe to an interactive table.\"\n",
              "              style=\"display:none;\">\n",
              "        \n",
              "  <svg xmlns=\"http://www.w3.org/2000/svg\" height=\"24px\"viewBox=\"0 0 24 24\"\n",
              "       width=\"24px\">\n",
              "    <path d=\"M0 0h24v24H0V0z\" fill=\"none\"/>\n",
              "    <path d=\"M18.56 5.44l.94 2.06.94-2.06 2.06-.94-2.06-.94-.94-2.06-.94 2.06-2.06.94zm-11 1L8.5 8.5l.94-2.06 2.06-.94-2.06-.94L8.5 2.5l-.94 2.06-2.06.94zm10 10l.94 2.06.94-2.06 2.06-.94-2.06-.94-.94-2.06-.94 2.06-2.06.94z\"/><path d=\"M17.41 7.96l-1.37-1.37c-.4-.4-.92-.59-1.43-.59-.52 0-1.04.2-1.43.59L10.3 9.45l-7.72 7.72c-.78.78-.78 2.05 0 2.83L4 21.41c.39.39.9.59 1.41.59.51 0 1.02-.2 1.41-.59l7.78-7.78 2.81-2.81c.8-.78.8-2.07 0-2.86zM5.41 20L4 18.59l7.72-7.72 1.47 1.35L5.41 20z\"/>\n",
              "  </svg>\n",
              "      </button>\n",
              "      \n",
              "  <style>\n",
              "    .colab-df-container {\n",
              "      display:flex;\n",
              "      flex-wrap:wrap;\n",
              "      gap: 12px;\n",
              "    }\n",
              "\n",
              "    .colab-df-convert {\n",
              "      background-color: #E8F0FE;\n",
              "      border: none;\n",
              "      border-radius: 50%;\n",
              "      cursor: pointer;\n",
              "      display: none;\n",
              "      fill: #1967D2;\n",
              "      height: 32px;\n",
              "      padding: 0 0 0 0;\n",
              "      width: 32px;\n",
              "    }\n",
              "\n",
              "    .colab-df-convert:hover {\n",
              "      background-color: #E2EBFA;\n",
              "      box-shadow: 0px 1px 2px rgba(60, 64, 67, 0.3), 0px 1px 3px 1px rgba(60, 64, 67, 0.15);\n",
              "      fill: #174EA6;\n",
              "    }\n",
              "\n",
              "    [theme=dark] .colab-df-convert {\n",
              "      background-color: #3B4455;\n",
              "      fill: #D2E3FC;\n",
              "    }\n",
              "\n",
              "    [theme=dark] .colab-df-convert:hover {\n",
              "      background-color: #434B5C;\n",
              "      box-shadow: 0px 1px 3px 1px rgba(0, 0, 0, 0.15);\n",
              "      filter: drop-shadow(0px 1px 2px rgba(0, 0, 0, 0.3));\n",
              "      fill: #FFFFFF;\n",
              "    }\n",
              "  </style>\n",
              "\n",
              "      <script>\n",
              "        const buttonEl =\n",
              "          document.querySelector('#df-3b31372e-ffca-48e3-b4a5-66e7c997bf41 button.colab-df-convert');\n",
              "        buttonEl.style.display =\n",
              "          google.colab.kernel.accessAllowed ? 'block' : 'none';\n",
              "\n",
              "        async function convertToInteractive(key) {\n",
              "          const element = document.querySelector('#df-3b31372e-ffca-48e3-b4a5-66e7c997bf41');\n",
              "          const dataTable =\n",
              "            await google.colab.kernel.invokeFunction('convertToInteractive',\n",
              "                                                     [key], {});\n",
              "          if (!dataTable) return;\n",
              "\n",
              "          const docLinkHtml = 'Like what you see? Visit the ' +\n",
              "            '<a target=\"_blank\" href=https://colab.research.google.com/notebooks/data_table.ipynb>data table notebook</a>'\n",
              "            + ' to learn more about interactive tables.';\n",
              "          element.innerHTML = '';\n",
              "          dataTable['output_type'] = 'display_data';\n",
              "          await google.colab.output.renderOutput(dataTable, element);\n",
              "          const docLink = document.createElement('div');\n",
              "          docLink.innerHTML = docLinkHtml;\n",
              "          element.appendChild(docLink);\n",
              "        }\n",
              "      </script>\n",
              "    </div>\n",
              "  </div>\n",
              "  "
            ],
            "text/plain": [
              "   year  month  day  week  temp_2  temp_1  average  actual  friend\n",
              "0  2016      1    1   Fri      45      45     45.6      45      29\n",
              "1  2016      1    2   Sat      44      45     45.7      44      61\n",
              "2  2016      1    3   Sun      45      44     45.8      41      56\n",
              "3  2016      1    4   Mon      44      41     45.9      40      53\n",
              "4  2016      1    5  Tues      41      40     46.0      44      41"
            ]
          },
          "metadata": {},
          "execution_count": 5
        }
      ]
    },
    {
      "cell_type": "markdown",
      "source": [
        "year, month, day, week refer to the date on which the temperature was measured.\n",
        "\n",
        "temp_2 refers to the temperatore 2 days ago.\n",
        "\n",
        "temp_1 refers to the temperatore 1 days ago.\n",
        "\n",
        "average refers to the average temperature on that date over the years.\n",
        "\n",
        "actual is the true value of temperature on that date for this year.\n",
        "\n",
        "friend might a variable of your friend randomly guessing."
      ],
      "metadata": {
        "id": "0FlAMu7cII8u"
      }
    },
    {
      "cell_type": "code",
      "source": [
        "# Organizing dates\n",
        "import datetime\n",
        "\n",
        "years = features['year']\n",
        "months = features['month']\n",
        "days = features['day']\n",
        "\n",
        "dates = [str(int(year)) + '-' + str(int(month)) + '-' + str(int(day)) for year, month, day in zip(years, months,days) ]\n",
        "dates = [datetime.datetime.strptime(date, '%Y-%m-%d') for date in dates]"
      ],
      "metadata": {
        "id": "sEASsNhWH8CJ"
      },
      "execution_count": 6,
      "outputs": []
    },
    {
      "cell_type": "code",
      "source": [
        "dates[:5]"
      ],
      "metadata": {
        "colab": {
          "base_uri": "https://localhost:8080/"
        },
        "id": "rsti7js0NR9V",
        "outputId": "252bab31-1978-4e49-a041-387dc53a4daf"
      },
      "execution_count": 7,
      "outputs": [
        {
          "output_type": "execute_result",
          "data": {
            "text/plain": [
              "[datetime.datetime(2016, 1, 1, 0, 0),\n",
              " datetime.datetime(2016, 1, 2, 0, 0),\n",
              " datetime.datetime(2016, 1, 3, 0, 0),\n",
              " datetime.datetime(2016, 1, 4, 0, 0),\n",
              " datetime.datetime(2016, 1, 5, 0, 0)]"
            ]
          },
          "metadata": {},
          "execution_count": 7
        }
      ]
    },
    {
      "cell_type": "code",
      "source": [
        "plt.style.use('fivethirtyeight')\n",
        "\n",
        "# Four subplots\n",
        "fig, ((ax1, ax2),(ax3, ax4)) = plt.subplots(nrows = 2, ncols = 2, figsize = (10,10))\n",
        "fig.autofmt_xdate(rotation = 45)\n",
        "\n",
        "ax1.plot(dates, features['actual'])\n",
        "ax1.set_xlabel(''); ax1.set_ylabel('Temperature'); ax1.set_title('Max Temp')\n",
        "\n",
        "ax2.plot(dates, features['temp_1'])\n",
        "ax2.set_xlabel(''); ax2.set_ylabel('Temperature'); ax2.set_title('Previous Max Temp')\n",
        "\n",
        "ax3.plot(dates, features['temp_2'])\n",
        "ax3.set_xlabel('Date'); ax3.set_ylabel('Temperature'); ax3.set_title('Two Days Prior Max Temp')\n",
        "\n",
        "ax4.plot(dates, features['friend'])\n",
        "ax4.set_xlabel('Date'); ax4.set_ylabel('Temperature'); ax4.set_title('Friend Estimate')"
      ],
      "metadata": {
        "colab": {
          "base_uri": "https://localhost:8080/",
          "height": 637
        },
        "id": "gxIsSJ-lN7NT",
        "outputId": "b0c0adf3-181a-4520-f304-5b48de7f1bb2"
      },
      "execution_count": 8,
      "outputs": [
        {
          "output_type": "execute_result",
          "data": {
            "text/plain": [
              "Text(0.5, 1.0, 'Friend Estimate')"
            ]
          },
          "metadata": {},
          "execution_count": 8
        },
        {
          "output_type": "display_data",
          "data": {
            "image/png": "[encoded data removed]",
            "text/plain": [
              "<Figure size 720x720 with 4 Axes>"
            ]
          },
          "metadata": {}
        }
      ]
    },
    {
      "cell_type": "code",
      "source": [
        "# Use onehot Encoding for week days\n",
        "features = pd.get_dummies(features)\n",
        "features.head(5)"
      ],
      "metadata": {
        "colab": {
          "base_uri": "https://localhost:8080/",
          "height": 270
        },
        "id": "gsgcu_HhUhUJ",
        "outputId": "c2f3c80c-cb0d-4fed-f34f-7277878818c1"
      },
      "execution_count": 9,
      "outputs": [
        {
          "output_type": "execute_result",
          "data": {
            "text/html": [
              "\n",
              "  <div id=\"df-0ac01371-d57a-479b-97d2-8924fcb1c559\">\n",
              "    <div class=\"colab-df-container\">\n",
              "      <div>\n",
              "<style scoped>\n",
              "    .dataframe tbody tr th:only-of-type {\n",
              "        vertical-align: middle;\n",
              "    }\n",
              "\n",
              "    .dataframe tbody tr th {\n",
              "        vertical-align: top;\n",
              "    }\n",
              "\n",
              "    .dataframe thead th {\n",
              "        text-align: right;\n",
              "    }\n",
              "</style>\n",
              "<table border=\"1\" class=\"dataframe\">\n",
              "  <thead>\n",
              "    <tr style=\"text-align: right;\">\n",
              "      <th></th>\n",
              "      <th>year</th>\n",
              "      <th>month</th>\n",
              "      <th>day</th>\n",
              "      <th>temp_2</th>\n",
              "      <th>temp_1</th>\n",
              "      <th>average</th>\n",
              "      <th>actual</th>\n",
              "      <th>friend</th>\n",
              "      <th>week_Fri</th>\n",
              "      <th>week_Mon</th>\n",
              "      <th>week_Sat</th>\n",
              "      <th>week_Sun</th>\n",
              "      <th>week_Thurs</th>\n",
              "      <th>week_Tues</th>\n",
              "      <th>week_Wed</th>\n",
              "    </tr>\n",
              "  </thead>\n",
              "  <tbody>\n",
              "    <tr>\n",
              "      <th>0</th>\n",
              "      <td>2016</td>\n",
              "      <td>1</td>\n",
              "      <td>1</td>\n",
              "      <td>45</td>\n",
              "      <td>45</td>\n",
              "      <td>45.6</td>\n",
              "      <td>45</td>\n",
              "      <td>29</td>\n",
              "      <td>1</td>\n",
              "      <td>0</td>\n",
              "      <td>0</td>\n",
              "      <td>0</td>\n",
              "      <td>0</td>\n",
              "      <td>0</td>\n",
              "      <td>0</td>\n",
              "    </tr>\n",
              "    <tr>\n",
              "      <th>1</th>\n",
              "      <td>2016</td>\n",
              "      <td>1</td>\n",
              "      <td>2</td>\n",
              "      <td>44</td>\n",
              "      <td>45</td>\n",
              "      <td>45.7</td>\n",
              "      <td>44</td>\n",
              "      <td>61</td>\n",
              "      <td>0</td>\n",
              "      <td>0</td>\n",
              "      <td>1</td>\n",
              "      <td>0</td>\n",
              "      <td>0</td>\n",
              "      <td>0</td>\n",
              "      <td>0</td>\n",
              "    </tr>\n",
              "    <tr>\n",
              "      <th>2</th>\n",
              "      <td>2016</td>\n",
              "      <td>1</td>\n",
              "      <td>3</td>\n",
              "      <td>45</td>\n",
              "      <td>44</td>\n",
              "      <td>45.8</td>\n",
              "      <td>41</td>\n",
              "      <td>56</td>\n",
              "      <td>0</td>\n",
              "      <td>0</td>\n",
              "      <td>0</td>\n",
              "      <td>1</td>\n",
              "      <td>0</td>\n",
              "      <td>0</td>\n",
              "      <td>0</td>\n",
              "    </tr>\n",
              "    <tr>\n",
              "      <th>3</th>\n",
              "      <td>2016</td>\n",
              "      <td>1</td>\n",
              "      <td>4</td>\n",
              "      <td>44</td>\n",
              "      <td>41</td>\n",
              "      <td>45.9</td>\n",
              "      <td>40</td>\n",
              "      <td>53</td>\n",
              "      <td>0</td>\n",
              "      <td>1</td>\n",
              "      <td>0</td>\n",
              "      <td>0</td>\n",
              "      <td>0</td>\n",
              "      <td>0</td>\n",
              "      <td>0</td>\n",
              "    </tr>\n",
              "    <tr>\n",
              "      <th>4</th>\n",
              "      <td>2016</td>\n",
              "      <td>1</td>\n",
              "      <td>5</td>\n",
              "      <td>41</td>\n",
              "      <td>40</td>\n",
              "      <td>46.0</td>\n",
              "      <td>44</td>\n",
              "      <td>41</td>\n",
              "      <td>0</td>\n",
              "      <td>0</td>\n",
              "      <td>0</td>\n",
              "      <td>0</td>\n",
              "      <td>0</td>\n",
              "      <td>1</td>\n",
              "      <td>0</td>\n",
              "    </tr>\n",
              "  </tbody>\n",
              "</table>\n",
              "</div>\n",
              "      <button class=\"colab-df-convert\" onclick=\"convertToInteractive('df-0ac01371-d57a-479b-97d2-8924fcb1c559')\"\n",
              "              title=\"Convert this dataframe to an interactive table.\"\n",
              "              style=\"display:none;\">\n",
              "        \n",
              "  <svg xmlns=\"http://www.w3.org/2000/svg\" height=\"24px\"viewBox=\"0 0 24 24\"\n",
              "       width=\"24px\">\n",
              "    <path d=\"M0 0h24v24H0V0z\" fill=\"none\"/>\n",
              "    <path d=\"M18.56 5.44l.94 2.06.94-2.06 2.06-.94-2.06-.94-.94-2.06-.94 2.06-2.06.94zm-11 1L8.5 8.5l.94-2.06 2.06-.94-2.06-.94L8.5 2.5l-.94 2.06-2.06.94zm10 10l.94 2.06.94-2.06 2.06-.94-2.06-.94-.94-2.06-.94 2.06-2.06.94z\"/><path d=\"M17.41 7.96l-1.37-1.37c-.4-.4-.92-.59-1.43-.59-.52 0-1.04.2-1.43.59L10.3 9.45l-7.72 7.72c-.78.78-.78 2.05 0 2.83L4 21.41c.39.39.9.59 1.41.59.51 0 1.02-.2 1.41-.59l7.78-7.78 2.81-2.81c.8-.78.8-2.07 0-2.86zM5.41 20L4 18.59l7.72-7.72 1.47 1.35L5.41 20z\"/>\n",
              "  </svg>\n",
              "      </button>\n",
              "      \n",
              "  <style>\n",
              "    .colab-df-container {\n",
              "      display:flex;\n",
              "      flex-wrap:wrap;\n",
              "      gap: 12px;\n",
              "    }\n",
              "\n",
              "    .colab-df-convert {\n",
              "      background-color: #E8F0FE;\n",
              "      border: none;\n",
              "      border-radius: 50%;\n",
              "      cursor: pointer;\n",
              "      display: none;\n",
              "      fill: #1967D2;\n",
              "      height: 32px;\n",
              "      padding: 0 0 0 0;\n",
              "      width: 32px;\n",
              "    }\n",
              "\n",
              "    .colab-df-convert:hover {\n",
              "      background-color: #E2EBFA;\n",
              "      box-shadow: 0px 1px 2px rgba(60, 64, 67, 0.3), 0px 1px 3px 1px rgba(60, 64, 67, 0.15);\n",
              "      fill: #174EA6;\n",
              "    }\n",
              "\n",
              "    [theme=dark] .colab-df-convert {\n",
              "      background-color: #3B4455;\n",
              "      fill: #D2E3FC;\n",
              "    }\n",
              "\n",
              "    [theme=dark] .colab-df-convert:hover {\n",
              "      background-color: #434B5C;\n",
              "      box-shadow: 0px 1px 3px 1px rgba(0, 0, 0, 0.15);\n",
              "      filter: drop-shadow(0px 1px 2px rgba(0, 0, 0, 0.3));\n",
              "      fill: #FFFFFF;\n",
              "    }\n",
              "  </style>\n",
              "\n",
              "      <script>\n",
              "        const buttonEl =\n",
              "          document.querySelector('#df-0ac01371-d57a-479b-97d2-8924fcb1c559 button.colab-df-convert');\n",
              "        buttonEl.style.display =\n",
              "          google.colab.kernel.accessAllowed ? 'block' : 'none';\n",
              "\n",
              "        async function convertToInteractive(key) {\n",
              "          const element = document.querySelector('#df-0ac01371-d57a-479b-97d2-8924fcb1c559');\n",
              "          const dataTable =\n",
              "            await google.colab.kernel.invokeFunction('convertToInteractive',\n",
              "                                                     [key], {});\n",
              "          if (!dataTable) return;\n",
              "\n",
              "          const docLinkHtml = 'Like what you see? Visit the ' +\n",
              "            '<a target=\"_blank\" href=https://colab.research.google.com/notebooks/data_table.ipynb>data table notebook</a>'\n",
              "            + ' to learn more about interactive tables.';\n",
              "          element.innerHTML = '';\n",
              "          dataTable['output_type'] = 'display_data';\n",
              "          await google.colab.output.renderOutput(dataTable, element);\n",
              "          const docLink = document.createElement('div');\n",
              "          docLink.innerHTML = docLinkHtml;\n",
              "          element.appendChild(docLink);\n",
              "        }\n",
              "      </script>\n",
              "    </div>\n",
              "  </div>\n",
              "  "
            ],
            "text/plain": [
              "   year  month  day  temp_2  ...  week_Sun  week_Thurs  week_Tues  week_Wed\n",
              "0  2016      1    1      45  ...         0           0          0         0\n",
              "1  2016      1    2      44  ...         0           0          0         0\n",
              "2  2016      1    3      45  ...         1           0          0         0\n",
              "3  2016      1    4      44  ...         0           0          0         0\n",
              "4  2016      1    5      41  ...         0           0          1         0\n",
              "\n",
              "[5 rows x 15 columns]"
            ]
          },
          "metadata": {},
          "execution_count": 9
        }
      ]
    },
    {
      "cell_type": "code",
      "source": [
        "labels = np.array(features['actual'])\n",
        "\n",
        "features = features.drop('actual', axis = 1)\n",
        "\n",
        "feature_list = list(features.columns)\n",
        "\n",
        "features = np.array(features)"
      ],
      "metadata": {
        "id": "vASyunxTUvCB"
      },
      "execution_count": 10,
      "outputs": []
    },
    {
      "cell_type": "code",
      "source": [
        "features.shape"
      ],
      "metadata": {
        "colab": {
          "base_uri": "https://localhost:8080/"
        },
        "id": "bU3bfTiIWBo3",
        "outputId": "c5f9a085-fb18-4606-aa58-43781c5a93d5"
      },
      "execution_count": 11,
      "outputs": [
        {
          "output_type": "execute_result",
          "data": {
            "text/plain": [
              "(348, 14)"
            ]
          },
          "metadata": {},
          "execution_count": 11
        }
      ]
    },
    {
      "cell_type": "markdown",
      "source": [
        "Preprocess data as temperatures have for example a different magnitude compared to the binary variables"
      ],
      "metadata": {
        "id": "NMTtGNFxYWEI"
      }
    },
    {
      "cell_type": "code",
      "source": [
        "from sklearn import preprocessing\n",
        "input_features = preprocessing.StandardScaler().fit_transform(features)"
      ],
      "metadata": {
        "id": "JIAbZyHOXNI6"
      },
      "execution_count": 12,
      "outputs": []
    },
    {
      "cell_type": "code",
      "source": [
        "input_features[0]"
      ],
      "metadata": {
        "colab": {
          "base_uri": "https://localhost:8080/"
        },
        "id": "y4zJIZ0kXZh3",
        "outputId": "94ea5496-0036-4ce2-86bb-f1cc57147d14"
      },
      "execution_count": 13,
      "outputs": [
        {
          "output_type": "execute_result",
          "data": {
            "text/plain": [
              "array([ 0.        , -1.5678393 , -1.65682171, -1.45311448, -1.46252836,\n",
              "       -1.3470703 , -1.98891668,  2.44131112, -0.40482045, -0.40961596,\n",
              "       -0.40482045, -0.40482045, -0.41913682, -0.40482045])"
            ]
          },
          "metadata": {},
          "execution_count": 13
        }
      ]
    },
    {
      "cell_type": "markdown",
      "source": [
        "**Constructing the neural network with Keras**"
      ],
      "metadata": {
        "id": "fhjqeE7LZ_ae"
      }
    },
    {
      "cell_type": "code",
      "source": [
        "model = tf.keras.Sequential()\n",
        "model.add(layers.Dense(16))\n",
        "model.add(layers.Dense(32))\n",
        "model.add(layers.Dense(1))"
      ],
      "metadata": {
        "id": "zk7Lm9ZqYiO-"
      },
      "execution_count": 45,
      "outputs": []
    },
    {
      "cell_type": "code",
      "source": [
        "model.compile(optimizer=tf.keras.optimizers.SGD(0.001), loss='mean_squared_error')"
      ],
      "metadata": {
        "id": "RPoh2m4RfT_1"
      },
      "execution_count": 46,
      "outputs": []
    },
    {
      "cell_type": "code",
      "source": [
        "model.fit(input_features, labels, validation_split = 0.25, epochs=100, batch_size=64)"
      ],
      "metadata": {
        "colab": {
          "base_uri": "https://localhost:8080/"
        },
        "id": "rvtGuVBQff4E",
        "outputId": "ade64a11-28c1-4577-fcab-22963546d86b"
      },
      "execution_count": 47,
      "outputs": [
        {
          "output_type": "stream",
          "name": "stdout",
          "text": [
            "Epoch 1/100\n",
            "5/5 [==============================] - 0s 33ms/step - loss: 4271.0767 - val_loss: 2932.2715\n",
            "Epoch 2/100\n",
            "5/5 [==============================] - 0s 7ms/step - loss: 2693.4495 - val_loss: 3768.5654\n",
            "Epoch 3/100\n",
            "5/5 [==============================] - 0s 7ms/step - loss: 138.0311 - val_loss: 2674.6724\n",
            "Epoch 4/100\n",
            "5/5 [==============================] - 0s 9ms/step - loss: 81.2503 - val_loss: 2065.8752\n",
            "Epoch 5/100\n",
            "5/5 [==============================] - 0s 8ms/step - loss: 74.0017 - val_loss: 1803.3837\n",
            "Epoch 6/100\n",
            "5/5 [==============================] - 0s 7ms/step - loss: 54.4663 - val_loss: 1519.4192\n",
            "Epoch 7/100\n",
            "5/5 [==============================] - 0s 7ms/step - loss: 53.1124 - val_loss: 1238.4207\n",
            "Epoch 8/100\n",
            "5/5 [==============================] - 0s 9ms/step - loss: 43.1114 - val_loss: 1009.9725\n",
            "Epoch 9/100\n",
            "5/5 [==============================] - 0s 7ms/step - loss: 64.9233 - val_loss: 667.5434\n",
            "Epoch 10/100\n",
            "5/5 [==============================] - 0s 9ms/step - loss: 70.8831 - val_loss: 654.3022\n",
            "Epoch 11/100\n",
            "5/5 [==============================] - 0s 9ms/step - loss: 153.5810 - val_loss: 557.6389\n",
            "Epoch 12/100\n",
            "5/5 [==============================] - 0s 7ms/step - loss: 120.8479 - val_loss: 450.8607\n",
            "Epoch 13/100\n",
            "5/5 [==============================] - 0s 7ms/step - loss: 41.7636 - val_loss: 513.2980\n",
            "Epoch 14/100\n",
            "5/5 [==============================] - 0s 8ms/step - loss: 40.6080 - val_loss: 319.1882\n",
            "Epoch 15/100\n",
            "5/5 [==============================] - 0s 7ms/step - loss: 32.0835 - val_loss: 307.2879\n",
            "Epoch 16/100\n",
            "5/5 [==============================] - 0s 7ms/step - loss: 56.3661 - val_loss: 311.6519\n",
            "Epoch 17/100\n",
            "5/5 [==============================] - 0s 12ms/step - loss: 49.4024 - val_loss: 224.3219\n",
            "Epoch 18/100\n",
            "5/5 [==============================] - 0s 7ms/step - loss: 42.8230 - val_loss: 202.8292\n",
            "Epoch 19/100\n",
            "5/5 [==============================] - 0s 8ms/step - loss: 66.2074 - val_loss: 181.7964\n",
            "Epoch 20/100\n",
            "5/5 [==============================] - 0s 8ms/step - loss: 56.3300 - val_loss: 162.6660\n",
            "Epoch 21/100\n",
            "5/5 [==============================] - 0s 7ms/step - loss: 28.0343 - val_loss: 143.8313\n",
            "Epoch 22/100\n",
            "5/5 [==============================] - 0s 9ms/step - loss: 30.8346 - val_loss: 151.1273\n",
            "Epoch 23/100\n",
            "5/5 [==============================] - 0s 7ms/step - loss: 33.7606 - val_loss: 140.7952\n",
            "Epoch 24/100\n",
            "5/5 [==============================] - 0s 7ms/step - loss: 36.2127 - val_loss: 75.3685\n",
            "Epoch 25/100\n",
            "5/5 [==============================] - 0s 12ms/step - loss: 33.2764 - val_loss: 67.9458\n",
            "Epoch 26/100\n",
            "5/5 [==============================] - 0s 9ms/step - loss: 24.8666 - val_loss: 81.5741\n",
            "Epoch 27/100\n",
            "5/5 [==============================] - 0s 8ms/step - loss: 30.1253 - val_loss: 121.3860\n",
            "Epoch 28/100\n",
            "5/5 [==============================] - 0s 8ms/step - loss: 37.6342 - val_loss: 87.4958\n",
            "Epoch 29/100\n",
            "5/5 [==============================] - 0s 6ms/step - loss: 41.0212 - val_loss: 64.9542\n",
            "Epoch 30/100\n",
            "5/5 [==============================] - 0s 7ms/step - loss: 34.1695 - val_loss: 54.0782\n",
            "Epoch 31/100\n",
            "5/5 [==============================] - 0s 7ms/step - loss: 27.6317 - val_loss: 56.0101\n",
            "Epoch 32/100\n",
            "5/5 [==============================] - 0s 7ms/step - loss: 31.7773 - val_loss: 58.6332\n",
            "Epoch 33/100\n",
            "5/5 [==============================] - 0s 7ms/step - loss: 29.6599 - val_loss: 53.4334\n",
            "Epoch 34/100\n",
            "5/5 [==============================] - 0s 10ms/step - loss: 77.0387 - val_loss: 58.4270\n",
            "Epoch 35/100\n",
            "5/5 [==============================] - 0s 11ms/step - loss: 29.7797 - val_loss: 64.8087\n",
            "Epoch 36/100\n",
            "5/5 [==============================] - 0s 7ms/step - loss: 31.4193 - val_loss: 43.5950\n",
            "Epoch 37/100\n",
            "5/5 [==============================] - 0s 8ms/step - loss: 26.0054 - val_loss: 67.5927\n",
            "Epoch 38/100\n",
            "5/5 [==============================] - 0s 7ms/step - loss: 50.2578 - val_loss: 43.7989\n",
            "Epoch 39/100\n",
            "5/5 [==============================] - 0s 11ms/step - loss: 27.5531 - val_loss: 59.7058\n",
            "Epoch 40/100\n",
            "5/5 [==============================] - 0s 6ms/step - loss: 54.8222 - val_loss: 51.3731\n",
            "Epoch 41/100\n",
            "5/5 [==============================] - 0s 7ms/step - loss: 26.1407 - val_loss: 46.0477\n",
            "Epoch 42/100\n",
            "5/5 [==============================] - 0s 8ms/step - loss: 36.6862 - val_loss: 78.2715\n",
            "Epoch 43/100\n",
            "5/5 [==============================] - 0s 8ms/step - loss: 33.9071 - val_loss: 57.8485\n",
            "Epoch 44/100\n",
            "5/5 [==============================] - 0s 7ms/step - loss: 31.0427 - val_loss: 45.8286\n",
            "Epoch 45/100\n",
            "5/5 [==============================] - 0s 7ms/step - loss: 44.6180 - val_loss: 65.9104\n",
            "Epoch 46/100\n",
            "5/5 [==============================] - 0s 9ms/step - loss: 80.4199 - val_loss: 46.3372\n",
            "Epoch 47/100\n",
            "5/5 [==============================] - 0s 7ms/step - loss: 28.7591 - val_loss: 44.8273\n",
            "Epoch 48/100\n",
            "5/5 [==============================] - 0s 7ms/step - loss: 43.3928 - val_loss: 54.8404\n",
            "Epoch 49/100\n",
            "5/5 [==============================] - 0s 8ms/step - loss: 35.7115 - val_loss: 54.1692\n",
            "Epoch 50/100\n",
            "5/5 [==============================] - 0s 7ms/step - loss: 28.9736 - val_loss: 45.8098\n",
            "Epoch 51/100\n",
            "5/5 [==============================] - 0s 8ms/step - loss: 29.5572 - val_loss: 46.4061\n",
            "Epoch 52/100\n",
            "5/5 [==============================] - 0s 7ms/step - loss: 55.2306 - val_loss: 54.2333\n",
            "Epoch 53/100\n",
            "5/5 [==============================] - 0s 7ms/step - loss: 27.3162 - val_loss: 56.0511\n",
            "Epoch 54/100\n",
            "5/5 [==============================] - 0s 6ms/step - loss: 41.6224 - val_loss: 44.8575\n",
            "Epoch 55/100\n",
            "5/5 [==============================] - 0s 7ms/step - loss: 30.2856 - val_loss: 43.8783\n",
            "Epoch 56/100\n",
            "5/5 [==============================] - 0s 7ms/step - loss: 26.6290 - val_loss: 46.8893\n",
            "Epoch 57/100\n",
            "5/5 [==============================] - 0s 7ms/step - loss: 26.5244 - val_loss: 44.4284\n",
            "Epoch 58/100\n",
            "5/5 [==============================] - 0s 9ms/step - loss: 48.1330 - val_loss: 47.5795\n",
            "Epoch 59/100\n",
            "5/5 [==============================] - 0s 7ms/step - loss: 32.8425 - val_loss: 46.7125\n",
            "Epoch 60/100\n",
            "5/5 [==============================] - 0s 7ms/step - loss: 32.7862 - val_loss: 84.3959\n",
            "Epoch 61/100\n",
            "5/5 [==============================] - 0s 9ms/step - loss: 44.2750 - val_loss: 41.9119\n",
            "Epoch 62/100\n",
            "5/5 [==============================] - 0s 7ms/step - loss: 43.6709 - val_loss: 50.8119\n",
            "Epoch 63/100\n",
            "5/5 [==============================] - 0s 13ms/step - loss: 51.3670 - val_loss: 89.4275\n",
            "Epoch 64/100\n",
            "5/5 [==============================] - 0s 7ms/step - loss: 44.2442 - val_loss: 53.4510\n",
            "Epoch 65/100\n",
            "5/5 [==============================] - 0s 8ms/step - loss: 34.5631 - val_loss: 41.4285\n",
            "Epoch 66/100\n",
            "5/5 [==============================] - 0s 7ms/step - loss: 25.6721 - val_loss: 51.0239\n",
            "Epoch 67/100\n",
            "5/5 [==============================] - 0s 7ms/step - loss: 28.6127 - val_loss: 48.4191\n",
            "Epoch 68/100\n",
            "5/5 [==============================] - 0s 7ms/step - loss: 30.1712 - val_loss: 40.4190\n",
            "Epoch 69/100\n",
            "5/5 [==============================] - 0s 7ms/step - loss: 25.7660 - val_loss: 48.8040\n",
            "Epoch 70/100\n",
            "5/5 [==============================] - 0s 7ms/step - loss: 36.2138 - val_loss: 44.6431\n",
            "Epoch 71/100\n",
            "5/5 [==============================] - 0s 7ms/step - loss: 32.7684 - val_loss: 56.7085\n",
            "Epoch 72/100\n",
            "5/5 [==============================] - 0s 7ms/step - loss: 36.7116 - val_loss: 59.3686\n",
            "Epoch 73/100\n",
            "5/5 [==============================] - 0s 8ms/step - loss: 51.1910 - val_loss: 63.9719\n",
            "Epoch 74/100\n",
            "5/5 [==============================] - 0s 8ms/step - loss: 55.3369 - val_loss: 53.9520\n",
            "Epoch 75/100\n",
            "5/5 [==============================] - 0s 7ms/step - loss: 58.7746 - val_loss: 70.5993\n",
            "Epoch 76/100\n",
            "5/5 [==============================] - 0s 6ms/step - loss: 33.8747 - val_loss: 43.2397\n",
            "Epoch 77/100\n",
            "5/5 [==============================] - 0s 8ms/step - loss: 26.6290 - val_loss: 70.6242\n",
            "Epoch 78/100\n",
            "5/5 [==============================] - 0s 7ms/step - loss: 50.6751 - val_loss: 47.7690\n",
            "Epoch 79/100\n",
            "5/5 [==============================] - 0s 9ms/step - loss: 31.5276 - val_loss: 56.1651\n",
            "Epoch 80/100\n",
            "5/5 [==============================] - 0s 8ms/step - loss: 28.9223 - val_loss: 49.9592\n",
            "Epoch 81/100\n",
            "5/5 [==============================] - 0s 7ms/step - loss: 26.5249 - val_loss: 43.3533\n",
            "Epoch 82/100\n",
            "5/5 [==============================] - 0s 8ms/step - loss: 27.0419 - val_loss: 61.5858\n",
            "Epoch 83/100\n",
            "5/5 [==============================] - 0s 8ms/step - loss: 36.0383 - val_loss: 59.8183\n",
            "Epoch 84/100\n",
            "5/5 [==============================] - 0s 7ms/step - loss: 37.5779 - val_loss: 40.8445\n",
            "Epoch 85/100\n",
            "5/5 [==============================] - 0s 7ms/step - loss: 25.8686 - val_loss: 55.0229\n",
            "Epoch 86/100\n",
            "5/5 [==============================] - 0s 8ms/step - loss: 33.9625 - val_loss: 51.2572\n",
            "Epoch 87/100\n",
            "5/5 [==============================] - 0s 7ms/step - loss: 27.6966 - val_loss: 46.8590\n",
            "Epoch 88/100\n",
            "5/5 [==============================] - 0s 10ms/step - loss: 26.5287 - val_loss: 69.3472\n",
            "Epoch 89/100\n",
            "5/5 [==============================] - 0s 8ms/step - loss: 36.5894 - val_loss: 47.4827\n",
            "Epoch 90/100\n",
            "5/5 [==============================] - 0s 8ms/step - loss: 26.3345 - val_loss: 68.0823\n",
            "Epoch 91/100\n",
            "5/5 [==============================] - 0s 9ms/step - loss: 44.0263 - val_loss: 53.5240\n",
            "Epoch 92/100\n",
            "5/5 [==============================] - 0s 7ms/step - loss: 28.8566 - val_loss: 42.3715\n",
            "Epoch 93/100\n",
            "5/5 [==============================] - 0s 12ms/step - loss: 39.0714 - val_loss: 45.8632\n",
            "Epoch 94/100\n",
            "5/5 [==============================] - 0s 7ms/step - loss: 38.4507 - val_loss: 53.5043\n",
            "Epoch 95/100\n",
            "5/5 [==============================] - 0s 7ms/step - loss: 26.1704 - val_loss: 43.9694\n",
            "Epoch 96/100\n",
            "5/5 [==============================] - 0s 9ms/step - loss: 23.9826 - val_loss: 42.5307\n",
            "Epoch 97/100\n",
            "5/5 [==============================] - 0s 7ms/step - loss: 23.4296 - val_loss: 48.5179\n",
            "Epoch 98/100\n",
            "5/5 [==============================] - 0s 7ms/step - loss: 32.6313 - val_loss: 57.2852\n",
            "Epoch 99/100\n",
            "5/5 [==============================] - 0s 7ms/step - loss: 34.6712 - val_loss: 43.2634\n",
            "Epoch 100/100\n",
            "5/5 [==============================] - 0s 7ms/step - loss: 26.9069 - val_loss: 46.2328\n"
          ]
        },
        {
          "output_type": "execute_result",
          "data": {
            "text/plain": [
              "<keras.callbacks.History at 0x7f0d033003d0>"
            ]
          },
          "metadata": {},
          "execution_count": 47
        }
      ]
    },
    {
      "cell_type": "code",
      "source": [
        "model.summary()\n",
        "# Params = number of weights + number of biases"
      ],
      "metadata": {
        "colab": {
          "base_uri": "https://localhost:8080/"
        },
        "id": "GIJ8Vw3rjCVU",
        "outputId": "eaaaf757-4599-4321-f564-dcc765d485a7"
      },
      "execution_count": 17,
      "outputs": [
        {
          "output_type": "stream",
          "name": "stdout",
          "text": [
            "Model: \"sequential\"\n",
            "_________________________________________________________________\n",
            " Layer (type)                Output Shape              Param #   \n",
            "=================================================================\n",
            " dense (Dense)               (None, 16)                240       \n",
            "                                                                 \n",
            " dense_1 (Dense)             (None, 32)                544       \n",
            "                                                                 \n",
            " dense_2 (Dense)             (None, 1)                 33        \n",
            "                                                                 \n",
            "=================================================================\n",
            "Total params: 817\n",
            "Trainable params: 817\n",
            "Non-trainable params: 0\n",
            "_________________________________________________________________\n"
          ]
        }
      ]
    },
    {
      "cell_type": "code",
      "source": [
        "model = tf.keras.Sequential()\n",
        "model.add(layers.Dense(16, kernel_initializer = 'random_normal', kernel_regularizer = tf.keras.regularizers.l2(0.03)))\n",
        "model.add(layers.Dense(32, kernel_initializer = 'random_normal', kernel_regularizer = tf.keras.regularizers.l2(0.03)))\n",
        "model.add(layers.Dense(1, kernel_initializer = 'random_normal', kernel_regularizer = tf.keras.regularizers.l2(0.03)))\n",
        "\n",
        "model.compile(optimizer=tf.keras.optimizers.SGD(0.001), loss='mean_squared_error')\n",
        "model.fit(input_features, labels, validation_split=0.25, epochs=100, batch_size=64)"
      ],
      "metadata": {
        "colab": {
          "base_uri": "https://localhost:8080/"
        },
        "id": "PBuQku9QY-G4",
        "outputId": "0dc382de-12bf-45c1-9e57-a6bd24a92dc4"
      },
      "execution_count": 72,
      "outputs": [
        {
          "output_type": "stream",
          "name": "stdout",
          "text": [
            "Epoch 1/100\n",
            "5/5 [==============================] - 1s 36ms/step - loss: 4390.0488 - val_loss: 2869.2871\n",
            "Epoch 2/100\n",
            "5/5 [==============================] - 0s 7ms/step - loss: 4293.0923 - val_loss: 2786.5901\n",
            "Epoch 3/100\n",
            "5/5 [==============================] - 0s 9ms/step - loss: 4172.8291 - val_loss: 2669.3940\n",
            "Epoch 4/100\n",
            "5/5 [==============================] - 0s 7ms/step - loss: 3935.0906 - val_loss: 2444.3667\n",
            "Epoch 5/100\n",
            "5/5 [==============================] - 0s 7ms/step - loss: 2640.5349 - val_loss: 2091.2969\n",
            "Epoch 6/100\n",
            "5/5 [==============================] - 0s 7ms/step - loss: 123.9354 - val_loss: 1481.7592\n",
            "Epoch 7/100\n",
            "5/5 [==============================] - 0s 7ms/step - loss: 65.7598 - val_loss: 1323.2903\n",
            "Epoch 8/100\n",
            "5/5 [==============================] - 0s 7ms/step - loss: 52.1914 - val_loss: 730.1443\n",
            "Epoch 9/100\n",
            "5/5 [==============================] - 0s 7ms/step - loss: 72.0241 - val_loss: 649.9360\n",
            "Epoch 10/100\n",
            "5/5 [==============================] - 0s 8ms/step - loss: 106.4213 - val_loss: 630.5864\n",
            "Epoch 11/100\n",
            "5/5 [==============================] - 0s 8ms/step - loss: 35.6357 - val_loss: 503.1660\n",
            "Epoch 12/100\n",
            "5/5 [==============================] - 0s 7ms/step - loss: 100.6302 - val_loss: 452.8680\n",
            "Epoch 13/100\n",
            "5/5 [==============================] - 0s 7ms/step - loss: 46.6555 - val_loss: 331.1633\n",
            "Epoch 14/100\n",
            "5/5 [==============================] - 0s 8ms/step - loss: 36.2625 - val_loss: 293.8830\n",
            "Epoch 15/100\n",
            "5/5 [==============================] - 0s 7ms/step - loss: 30.2581 - val_loss: 204.9672\n",
            "Epoch 16/100\n",
            "5/5 [==============================] - 0s 7ms/step - loss: 64.4738 - val_loss: 234.0441\n",
            "Epoch 17/100\n",
            "5/5 [==============================] - 0s 7ms/step - loss: 30.7689 - val_loss: 180.1814\n",
            "Epoch 18/100\n",
            "5/5 [==============================] - 0s 9ms/step - loss: 35.1977 - val_loss: 242.7980\n",
            "Epoch 19/100\n",
            "5/5 [==============================] - 0s 11ms/step - loss: 59.3618 - val_loss: 161.6897\n",
            "Epoch 20/100\n",
            "5/5 [==============================] - 0s 8ms/step - loss: 51.0648 - val_loss: 151.7839\n",
            "Epoch 21/100\n",
            "5/5 [==============================] - 0s 8ms/step - loss: 28.7267 - val_loss: 94.3049\n",
            "Epoch 22/100\n",
            "5/5 [==============================] - 0s 7ms/step - loss: 30.6903 - val_loss: 104.8704\n",
            "Epoch 23/100\n",
            "5/5 [==============================] - 0s 7ms/step - loss: 41.6198 - val_loss: 76.1737\n",
            "Epoch 24/100\n",
            "5/5 [==============================] - 0s 7ms/step - loss: 43.8878 - val_loss: 90.5374\n",
            "Epoch 25/100\n",
            "5/5 [==============================] - 0s 7ms/step - loss: 28.7744 - val_loss: 77.5983\n",
            "Epoch 26/100\n",
            "5/5 [==============================] - 0s 6ms/step - loss: 30.7954 - val_loss: 77.9458\n",
            "Epoch 27/100\n",
            "5/5 [==============================] - 0s 7ms/step - loss: 27.1025 - val_loss: 67.4089\n",
            "Epoch 28/100\n",
            "5/5 [==============================] - 0s 6ms/step - loss: 35.3883 - val_loss: 80.3500\n",
            "Epoch 29/100\n",
            "5/5 [==============================] - 0s 8ms/step - loss: 31.9576 - val_loss: 62.3405\n",
            "Epoch 30/100\n",
            "5/5 [==============================] - 0s 7ms/step - loss: 37.3887 - val_loss: 64.8479\n",
            "Epoch 31/100\n",
            "5/5 [==============================] - 0s 7ms/step - loss: 25.7070 - val_loss: 69.9586\n",
            "Epoch 32/100\n",
            "5/5 [==============================] - 0s 7ms/step - loss: 27.5863 - val_loss: 80.6524\n",
            "Epoch 33/100\n",
            "5/5 [==============================] - 0s 8ms/step - loss: 38.1330 - val_loss: 93.3879\n",
            "Epoch 34/100\n",
            "5/5 [==============================] - 0s 7ms/step - loss: 28.4332 - val_loss: 50.2752\n",
            "Epoch 35/100\n",
            "5/5 [==============================] - 0s 12ms/step - loss: 30.7962 - val_loss: 65.1079\n",
            "Epoch 36/100\n",
            "5/5 [==============================] - 0s 9ms/step - loss: 32.0046 - val_loss: 68.5918\n",
            "Epoch 37/100\n",
            "5/5 [==============================] - 0s 8ms/step - loss: 37.1560 - val_loss: 43.8047\n",
            "Epoch 38/100\n",
            "5/5 [==============================] - 0s 9ms/step - loss: 42.4642 - val_loss: 66.3986\n",
            "Epoch 39/100\n",
            "5/5 [==============================] - 0s 7ms/step - loss: 27.5832 - val_loss: 62.5473\n",
            "Epoch 40/100\n",
            "5/5 [==============================] - 0s 7ms/step - loss: 25.8220 - val_loss: 61.8471\n",
            "Epoch 41/100\n",
            "5/5 [==============================] - 0s 8ms/step - loss: 36.8012 - val_loss: 53.2310\n",
            "Epoch 42/100\n",
            "5/5 [==============================] - 0s 8ms/step - loss: 25.1437 - val_loss: 45.2336\n",
            "Epoch 43/100\n",
            "5/5 [==============================] - 0s 7ms/step - loss: 25.9927 - val_loss: 56.5561\n",
            "Epoch 44/100\n",
            "5/5 [==============================] - 0s 7ms/step - loss: 33.3266 - val_loss: 58.3745\n",
            "Epoch 45/100\n",
            "5/5 [==============================] - 0s 9ms/step - loss: 33.7117 - val_loss: 42.7323\n",
            "Epoch 46/100\n",
            "5/5 [==============================] - 0s 7ms/step - loss: 26.9568 - val_loss: 53.3888\n",
            "Epoch 47/100\n",
            "5/5 [==============================] - 0s 8ms/step - loss: 39.7807 - val_loss: 42.5390\n",
            "Epoch 48/100\n",
            "5/5 [==============================] - 0s 7ms/step - loss: 30.0415 - val_loss: 35.8440\n",
            "Epoch 49/100\n",
            "5/5 [==============================] - 0s 7ms/step - loss: 26.0435 - val_loss: 39.4568\n",
            "Epoch 50/100\n",
            "5/5 [==============================] - 0s 8ms/step - loss: 28.5880 - val_loss: 41.5519\n",
            "Epoch 51/100\n",
            "5/5 [==============================] - 0s 8ms/step - loss: 26.1744 - val_loss: 41.3054\n",
            "Epoch 52/100\n",
            "5/5 [==============================] - 0s 7ms/step - loss: 34.2638 - val_loss: 52.7374\n",
            "Epoch 53/100\n",
            "5/5 [==============================] - 0s 8ms/step - loss: 36.9796 - val_loss: 41.7837\n",
            "Epoch 54/100\n",
            "5/5 [==============================] - 0s 7ms/step - loss: 25.9721 - val_loss: 44.6933\n",
            "Epoch 55/100\n",
            "5/5 [==============================] - 0s 7ms/step - loss: 26.6390 - val_loss: 44.9352\n",
            "Epoch 56/100\n",
            "5/5 [==============================] - 0s 11ms/step - loss: 25.9922 - val_loss: 42.5623\n",
            "Epoch 57/100\n",
            "5/5 [==============================] - 0s 7ms/step - loss: 32.2213 - val_loss: 37.2070\n",
            "Epoch 58/100\n",
            "5/5 [==============================] - 0s 9ms/step - loss: 27.9766 - val_loss: 41.3859\n",
            "Epoch 59/100\n",
            "5/5 [==============================] - 0s 7ms/step - loss: 26.7643 - val_loss: 46.3314\n",
            "Epoch 60/100\n",
            "5/5 [==============================] - 0s 7ms/step - loss: 30.7977 - val_loss: 39.5534\n",
            "Epoch 61/100\n",
            "5/5 [==============================] - 0s 9ms/step - loss: 25.1960 - val_loss: 39.2515\n",
            "Epoch 62/100\n",
            "5/5 [==============================] - 0s 7ms/step - loss: 25.2532 - val_loss: 43.6792\n",
            "Epoch 63/100\n",
            "5/5 [==============================] - 0s 7ms/step - loss: 39.6009 - val_loss: 36.9154\n",
            "Epoch 64/100\n",
            "5/5 [==============================] - 0s 7ms/step - loss: 24.6428 - val_loss: 41.8896\n",
            "Epoch 65/100\n",
            "5/5 [==============================] - 0s 7ms/step - loss: 27.2006 - val_loss: 40.9966\n",
            "Epoch 66/100\n",
            "5/5 [==============================] - 0s 11ms/step - loss: 25.2054 - val_loss: 50.9524\n",
            "Epoch 67/100\n",
            "5/5 [==============================] - 0s 8ms/step - loss: 29.4034 - val_loss: 46.3874\n",
            "Epoch 68/100\n",
            "5/5 [==============================] - 0s 8ms/step - loss: 42.7684 - val_loss: 40.6435\n",
            "Epoch 69/100\n",
            "5/5 [==============================] - 0s 9ms/step - loss: 28.8858 - val_loss: 63.3311\n",
            "Epoch 70/100\n",
            "5/5 [==============================] - 0s 7ms/step - loss: 61.8549 - val_loss: 54.6941\n",
            "Epoch 71/100\n",
            "5/5 [==============================] - 0s 9ms/step - loss: 25.8932 - val_loss: 44.1733\n",
            "Epoch 72/100\n",
            "5/5 [==============================] - 0s 7ms/step - loss: 30.2603 - val_loss: 46.8557\n",
            "Epoch 73/100\n",
            "5/5 [==============================] - 0s 8ms/step - loss: 26.3850 - val_loss: 60.7269\n",
            "Epoch 74/100\n",
            "5/5 [==============================] - 0s 7ms/step - loss: 53.6866 - val_loss: 45.9397\n",
            "Epoch 75/100\n",
            "5/5 [==============================] - 0s 7ms/step - loss: 27.3955 - val_loss: 58.6334\n",
            "Epoch 76/100\n",
            "5/5 [==============================] - 0s 7ms/step - loss: 31.7977 - val_loss: 48.0239\n",
            "Epoch 77/100\n",
            "5/5 [==============================] - 0s 7ms/step - loss: 30.0691 - val_loss: 53.0683\n",
            "Epoch 78/100\n",
            "5/5 [==============================] - 0s 7ms/step - loss: 52.2901 - val_loss: 38.1699\n",
            "Epoch 79/100\n",
            "5/5 [==============================] - 0s 7ms/step - loss: 23.8880 - val_loss: 47.4456\n",
            "Epoch 80/100\n",
            "5/5 [==============================] - 0s 7ms/step - loss: 30.2883 - val_loss: 55.2603\n",
            "Epoch 81/100\n",
            "5/5 [==============================] - 0s 7ms/step - loss: 35.2053 - val_loss: 51.6177\n",
            "Epoch 82/100\n",
            "5/5 [==============================] - 0s 8ms/step - loss: 30.6398 - val_loss: 49.1453\n",
            "Epoch 83/100\n",
            "5/5 [==============================] - 0s 8ms/step - loss: 49.6922 - val_loss: 54.0537\n",
            "Epoch 84/100\n",
            "5/5 [==============================] - 0s 7ms/step - loss: 29.7036 - val_loss: 52.2356\n",
            "Epoch 85/100\n",
            "5/5 [==============================] - 0s 8ms/step - loss: 35.0142 - val_loss: 36.6273\n",
            "Epoch 86/100\n",
            "5/5 [==============================] - 0s 7ms/step - loss: 24.5588 - val_loss: 48.4016\n",
            "Epoch 87/100\n",
            "5/5 [==============================] - 0s 7ms/step - loss: 38.2605 - val_loss: 97.6024\n",
            "Epoch 88/100\n",
            "5/5 [==============================] - 0s 8ms/step - loss: 101.3810 - val_loss: 47.2313\n",
            "Epoch 89/100\n",
            "5/5 [==============================] - 0s 7ms/step - loss: 46.1035 - val_loss: 43.7134\n",
            "Epoch 90/100\n",
            "5/5 [==============================] - 0s 7ms/step - loss: 27.3520 - val_loss: 38.2735\n",
            "Epoch 91/100\n",
            "5/5 [==============================] - 0s 8ms/step - loss: 24.9657 - val_loss: 40.4644\n",
            "Epoch 92/100\n",
            "5/5 [==============================] - 0s 7ms/step - loss: 25.0442 - val_loss: 40.4074\n",
            "Epoch 93/100\n",
            "5/5 [==============================] - 0s 8ms/step - loss: 25.3975 - val_loss: 41.6078\n",
            "Epoch 94/100\n",
            "5/5 [==============================] - 0s 8ms/step - loss: 28.4461 - val_loss: 37.8774\n",
            "Epoch 95/100\n",
            "5/5 [==============================] - 0s 7ms/step - loss: 28.2118 - val_loss: 40.0367\n",
            "Epoch 96/100\n",
            "5/5 [==============================] - 0s 8ms/step - loss: 26.0156 - val_loss: 35.3860\n",
            "Epoch 97/100\n",
            "5/5 [==============================] - 0s 8ms/step - loss: 26.0306 - val_loss: 42.7590\n",
            "Epoch 98/100\n",
            "5/5 [==============================] - 0s 11ms/step - loss: 27.8169 - val_loss: 46.3690\n",
            "Epoch 99/100\n",
            "5/5 [==============================] - 0s 7ms/step - loss: 28.1482 - val_loss: 43.2269\n",
            "Epoch 100/100\n",
            "5/5 [==============================] - 0s 7ms/step - loss: 27.2813 - val_loss: 39.8249\n"
          ]
        },
        {
          "output_type": "execute_result",
          "data": {
            "text/plain": [
              "<keras.callbacks.History at 0x7f0d041dadd0>"
            ]
          },
          "metadata": {},
          "execution_count": 72
        }
      ]
    },
    {
      "cell_type": "markdown",
      "source": [
        "Prediction with the model"
      ],
      "metadata": {
        "id": "eRafjikoiCGK"
      }
    },
    {
      "cell_type": "code",
      "source": [
        "predict = model.predict(input_features)"
      ],
      "metadata": {
        "id": "lXH_hmn1iAKe"
      },
      "execution_count": 73,
      "outputs": []
    },
    {
      "cell_type": "code",
      "source": [
        "predict.shape"
      ],
      "metadata": {
        "colab": {
          "base_uri": "https://localhost:8080/"
        },
        "id": "9nVlyAWfmyEW",
        "outputId": "ac3efede-54b2-4794-9a97-daf4223de535"
      },
      "execution_count": 55,
      "outputs": [
        {
          "output_type": "execute_result",
          "data": {
            "text/plain": [
              "(348, 1)"
            ]
          },
          "metadata": {},
          "execution_count": 55
        }
      ]
    },
    {
      "cell_type": "markdown",
      "source": [
        "Comparing prediction results to the actual values"
      ],
      "metadata": {
        "id": "J6phIQLEm8we"
      }
    },
    {
      "cell_type": "code",
      "source": [
        "dates = [str(int(year)) + '-' + str(int(month)) + '-' + str(int(day)) for year, month, day in zip(years, months,days) ]\n",
        "dates = [datetime.datetime.strptime(date, '%Y-%m-%d') for date in dates]\n",
        "\n",
        "true_data=pd.DataFrame(data={'date':dates,'actual':labels})\n",
        "\n",
        "years=features[:, feature_list.index('year')]\n",
        "months=features[:, feature_list.index('month')]\n",
        "days=features[:, feature_list.index('day')]\n",
        "\n",
        "test_dates = [str(int(year)) + '-' + str(int(month)) + '-' + str(int(day)) for year, month, day in zip(years, months,days) ]\n",
        "test_dates = [datetime.datetime.strptime(date, '%Y-%m-%d') for date in test_dates]\n",
        "\n",
        "predictions_data = pd.DataFrame(data = {'date':test_dates, 'prediction':predict.reshape(-1)})"
      ],
      "metadata": {
        "id": "x1ayJ_EPm3IZ"
      },
      "execution_count": 74,
      "outputs": []
    },
    {
      "cell_type": "code",
      "source": [
        "plt.plot(true_data['date'],true_data['actual'],'b-', label = 'actual')\n",
        "\n",
        "plt.plot(predictions_data['date'], predictions_data['prediction'], 'ro', label = 'prediction')\n",
        "plt.xticks(rotation= '60')\n",
        "plt.legend()\n",
        "\n",
        "plt.xlabel('Date'); plt.ylabel('Maximum Temperature (F)'); plt.title('Actual and predicted values')"
      ],
      "metadata": {
        "colab": {
          "base_uri": "https://localhost:8080/",
          "height": 387
        },
        "id": "iMXxUWYO7bKt",
        "outputId": "b78103a5-3686-41a1-b0f4-c55430396783"
      },
      "execution_count": 75,
      "outputs": [
        {
          "output_type": "execute_result",
          "data": {
            "text/plain": [
              "Text(0.5, 1.0, 'Actual and predicted values')"
            ]
          },
          "metadata": {},
          "execution_count": 75
        },
        {
          "output_type": "display_data",
          "data": {
            "image/png": "[encoded data removed]",
            "text/plain": [
              "<Figure size 432x288 with 1 Axes>"
            ]
          },
          "metadata": {}
        }
      ]
    },
    {
      "cell_type": "code",
      "source": [
        ""
      ],
      "metadata": {
        "id": "mmwzxG7y72jB"
      },
      "execution_count": null,
      "outputs": []
    }
  ]
}